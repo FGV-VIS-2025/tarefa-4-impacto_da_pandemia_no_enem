{
 "cells": [
  {
   "cell_type": "code",
   "execution_count": 1,
   "id": "f701e7eb",
   "metadata": {},
   "outputs": [],
   "source": [
    "import pandas as pd"
   ]
  },
  {
   "cell_type": "code",
   "execution_count": 2,
   "id": "427fdae4",
   "metadata": {},
   "outputs": [],
   "source": [
    "d2019 = pd.read_csv(\"./data/enem2019-mg.csv\")\n",
    "d2020 = pd.read_csv(\"./data/enem2020-mg.csv\")"
   ]
  },
  {
   "cell_type": "code",
   "execution_count": 6,
   "id": "fee114d3",
   "metadata": {},
   "outputs": [],
   "source": [
    "d2019_filt = d2019[[\"NO_MUNICIPIO_ESC\", \"MESORREGIAO\", \"PRESENCA\"]]\n",
    "d2020_filt = d2020[[\"NO_MUNICIPIO_ESC\", \"MESORREGIAO\", \"PRESENCA\"]]"
   ]
  },
  {
   "cell_type": "code",
   "execution_count": 13,
   "id": "3c44e645",
   "metadata": {},
   "outputs": [],
   "source": [
    "d2019_group = d2019_filt.groupby([\"NO_MUNICIPIO_ESC\", \"MESORREGIAO\"])[\"PRESENCA\"].mean().reset_index()\n",
    "d2020_group = d2020_filt.groupby([\"NO_MUNICIPIO_ESC\", \"MESORREGIAO\"])[\"PRESENCA\"].mean().reset_index()"
   ]
  },
  {
   "cell_type": "code",
   "execution_count": 15,
   "id": "f988b3c9",
   "metadata": {},
   "outputs": [],
   "source": [
    "d2019_group.to_csv(\"./data/enem2019-mg-grouped.csv\", index=False)\n",
    "d2020_group.to_csv(\"./data/enem2020-mg-grouped.csv\", index=False)"
   ]
  }
 ],
 "metadata": {
  "kernelspec": {
   "display_name": "Python 3",
   "language": "python",
   "name": "python3"
  },
  "language_info": {
   "codemirror_mode": {
    "name": "ipython",
    "version": 3
   },
   "file_extension": ".py",
   "mimetype": "text/x-python",
   "name": "python",
   "nbconvert_exporter": "python",
   "pygments_lexer": "ipython3",
   "version": "3.11.4"
  }
 },
 "nbformat": 4,
 "nbformat_minor": 5
}
